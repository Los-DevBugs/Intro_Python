{
  "cells": [
    {
      "cell_type": "markdown",
      "source": [
        "##1. Intereses de una cuenta bancaria."
      ],
      "metadata": {
        "id": "hXCDXWcvJlHR"
      }
    },
    {
      "cell_type": "code",
      "source": [
        "x = int(input(\"inserte numero 1: \"))\n",
        "x2 = int(input(\"inserte numero 2: \"))\n",
        "x3 = int(input(\"inserte numero 3: \"))\n",
        "\n",
        "numeros = [x,x2,x3]\n",
        "numeros.sort(numeros)\n",
        "\n",
        "print(f\"Los numeros ordenados ascendentemente son:\"+numeros)"
      ],
      "metadata": {
        "id": "MJ1NbFjPJlVG"
      },
      "execution_count": null,
      "outputs": []
    },
    {
      "cell_type": "markdown",
      "source": [
        "##3.10 Intereses de una cuenta bancaria."
      ],
      "metadata": {
        "id": "5DdEVZ96TOCs"
      }
    },
    {
      "cell_type": "code",
      "source": [
        "# Función para calcular el interés compuesto\n",
        "def calcular_interes(capital, tasa_interes, años):\n",
        "    # Fórmula del interés compuesto\n",
        "    monto_total = capital * (1 + tasa_interes / 100) ** años\n",
        "    return monto_total\n",
        "\n",
        "# Solicitar los datos al usuario\n",
        "capital_inicial = float(input(\"Introduce el capital inicial (€): \"))\n",
        "tasa_interes_anual = float(input(\"Introduce la tasa de interés anual (%): \"))\n",
        "años = int(input(\"Introduce el número de años: \"))\n",
        "\n",
        "# Calcular el monto total después de los intereses\n",
        "monto_total = calcular_interes(capital_inicial, tasa_interes_anual, años)\n",
        "\n",
        "# Mostrar los resultados\n",
        "print(f\"Después de {años} años, el monto total será de: {monto_total:.2f} €\")"
      ],
      "metadata": {
        "id": "jadNDaS5TVxC"
      },
      "execution_count": null,
      "outputs": []
    },
    {
      "cell_type": "markdown",
      "source": [
        "## 3.13 Calificaciones numéricas y literales.\n"
      ],
      "metadata": {
        "id": "X91hR_ZBG7l1"
      }
    },
    {
      "cell_type": "code",
      "source": [
        "def calificacion_literal(nota):\n",
        "    if nota >= 20.0:\n",
        "        return \"Sobresaliente\"\n",
        "    elif nota >= 18.0:\n",
        "        return \"Notable\"\n",
        "    elif nota >= 15.0:\n",
        "        return \"Bien\"\n",
        "    elif nota >= 11.0:\n",
        "        return \"Aprobado\"\n",
        "    else:\n",
        "        return \"JALADO!!\"\n",
        "\n",
        "# Solicitar calificación al usuario\n",
        "nota = float(input(\"Introduce la calificación numérica (0-10): \"))\n",
        "\n",
        "# Mostrar el resultado literal\n",
        "literal = calificacion_literal(nota)\n",
        "print(f\"Tu calificación es: {literal}\")"
      ],
      "metadata": {
        "colab": {
          "base_uri": "https://localhost:8080/"
        },
        "id": "sXyACPivG7Kj",
        "outputId": "bf08efc6-583b-4890-8338-372309f6c298"
      },
      "execution_count": 4,
      "outputs": [
        {
          "output_type": "stream",
          "name": "stdout",
          "text": [
            "Introduce la calificación numérica (0-10): 12\n",
            "Tu calificación es: Sobresaliente\n"
          ]
        }
      ]
    },
    {
      "cell_type": "markdown",
      "source": [
        "##3.15 Convertir de grados sexagesimales a radianes y viceversa."
      ],
      "metadata": {
        "id": "MDUSARNyJ2Io"
      }
    },
    {
      "cell_type": "code",
      "source": [
        "# Definir el valor de pi manualmente\n",
        "PI = 3.1416\n",
        "\n",
        "# Función para convertir grados a radianes\n",
        "def grados_a_radianes(grados):\n",
        "    return grados * (PI / 180)\n",
        "\n",
        "# Función para convertir radianes a grados\n",
        "def radianes_a_grados(radianes):\n",
        "    return radianes * (180 / PI)\n",
        "\n",
        "# Menú para que el usuario elija la conversión\n",
        "print(\"Conversor de Grados y Radianes\")\n",
        "print(\"1. Convertir de Grados a Radianes\")\n",
        "print(\"2. Convertir de Radianes a Grados\")\n",
        "opcion = input(\"Elige una opción (1 o 2): \")\n",
        "\n",
        "# Convertir según la opción elegida\n",
        "if opcion == \"1\":\n",
        "    grados = float(input(\"Introduce el valor en grados: \"))\n",
        "    radianes = grados_a_radianes(grados)\n",
        "    print(f\"{grados} grados son {radianes} radianes.\")\n",
        "elif opcion == \"2\":\n",
        "    radianes = float(input(\"Introduce el valor en radianes: \"))\n",
        "    grados = radianes_a_grados(radianes)\n",
        "    print(f\"{radianes} radianes son {grados} grados.\")\n",
        "else:\n",
        "    print(\"Opción no válida.\")"
      ],
      "metadata": {
        "colab": {
          "base_uri": "https://localhost:8080/"
        },
        "id": "_eg2VxwZJ5tg",
        "outputId": "317427e7-1f11-4e89-bf21-adfb3703aba3"
      },
      "execution_count": 8,
      "outputs": [
        {
          "output_type": "stream",
          "name": "stdout",
          "text": [
            "Conversor de Grados y Radianes\n",
            "1. Convertir de Grados a Radianes\n",
            "2. Convertir de Radianes a Grados\n",
            "Elige una opción (1 o 2): 2\n",
            "Introduce el valor en radianes: 2\n",
            "2.0 radianes son 114.5912910618793 grados.\n"
          ]
        }
      ]
    },
    {
      "cell_type": "markdown",
      "source": [
        "##4.14 Cálculo de la raíz cuadrada."
      ],
      "metadata": {
        "id": "cYvPemc9LWmM"
      }
    },
    {
      "cell_type": "code",
      "source": [
        "# Función para calcular la raíz cuadrada usando el método de Newton\n",
        "def raiz_cuadrada(num, precision=0.00001):\n",
        "    if num < 0:\n",
        "        return \"No se puede calcular la raíz cuadrada de un número negativo\"\n",
        "\n",
        "    aproximacion = num / 2.0  # Suposición inicial\n",
        "    while abs(aproximacion ** 2 - num) > precision:\n",
        "        aproximacion = (aproximacion + num / aproximacion) / 2.0\n",
        "    return aproximacion\n",
        "\n",
        "# Solicitar número al usuario\n",
        "numero = float(input(\"Introduce un número para calcular su raíz cuadrada: \"))\n",
        "\n",
        "# Mostrar el resultado\n",
        "resultado = raiz_cuadrada(numero)\n",
        "print(f\"La raíz cuadrada de {numero} es aproximadamente {resultado:.5f}\")"
      ],
      "metadata": {
        "id": "5kAwnnXaLVSk"
      },
      "execution_count": null,
      "outputs": []
    },
    {
      "cell_type": "markdown",
      "source": [
        "##4.15 Dibujo de un cuadrado."
      ],
      "metadata": {
        "id": "_gjP_vD8MQ6S"
      }
    },
    {
      "cell_type": "code",
      "source": [
        "# Función para dibujar un cuadrado\n",
        "def dibujar_cuadrado(lado):\n",
        "    # Dibuja la primera línea (superior)\n",
        "    print(\" 0\" * lado)\n",
        "\n",
        "    # Dibuja los lados del cuadrado\n",
        "    for i in range(lado - 2):\n",
        "        print(\" 0\" * (lado))\n",
        "\n",
        "    # Dibuja la última línea (inferior)\n",
        "    print(\" 0\" * lado)\n",
        "\n",
        "# Solicitar el tamaño del lado del cuadrado al usuario\n",
        "lado = int(input(\"Introduce el tamaño del lado del cuadrado: \"))\n",
        "\n",
        "# Verificar que el tamaño sea válido (mayor que 1)\n",
        "if lado > 1:\n",
        "    dibujar_cuadrado(lado)\n",
        "else:\n",
        "    print(\"El tamaño del lado debe ser mayor que 1.\")"
      ],
      "metadata": {
        "colab": {
          "base_uri": "https://localhost:8080/"
        },
        "id": "_iPmvU0mMSOk",
        "outputId": "587a7f4b-c145-4760-a52e-36dc2650f719"
      },
      "execution_count": 20,
      "outputs": [
        {
          "output_type": "stream",
          "name": "stdout",
          "text": [
            "Introduce el tamaño del lado del cuadrado: 5\n",
            " 0 0 0 0 0\n",
            " 0 0 0 0 0\n",
            " 0 0 0 0 0\n",
            " 0 0 0 0 0\n",
            " 0 0 0 0 0\n"
          ]
        }
      ]
    }
  ],
  "metadata": {
    "colab": {
      "name": "Welcome To Colab",
      "toc_visible": true,
      "provenance": []
    },
    "kernelspec": {
      "display_name": "Python 3",
      "name": "python3"
    }
  },
  "nbformat": 4,
  "nbformat_minor": 0
}